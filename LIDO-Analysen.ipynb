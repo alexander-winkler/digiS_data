{
 "cells": [
  {
   "cell_type": "markdown",
   "id": "65769577",
   "metadata": {},
   "source": [
    "# LIDOQA: LIDO Quality Assessment\n",
    "\n",
    "## Introduction\n",
    "\n",
    "Heterogeneity of asset management systems, export worflows, cataloguing standards, objects results in heterogeneity of LIDO data.\n",
    "Still, some general rules can be formulated that make LIDO data better.\n",
    "\n",
    "Some basic guidelines for 'good' LIDO-Data:\n",
    "\n",
    "- good LIDOs describe objects carefully und comprehensively\n",
    "- good LIDO is both human and machine-readable\n",
    "- good LIDO uses controlled vocabulary and complies with good practices of LOD (use URIs wherever possible)"
   ]
  },
  {
   "cell_type": "code",
   "execution_count": null,
   "id": "7ec0b73d",
   "metadata": {},
   "outputs": [],
   "source": [
    "from glob import glob\n",
    "from lxml import etree\n",
    "from collections import Counter, defaultdict\n",
    "from urllib.parse import urlparse\n",
    "import requests\n",
    "from matplotlib import pyplot as plt"
   ]
  },
  {
   "cell_type": "code",
   "execution_count": null,
   "id": "b1851be8",
   "metadata": {},
   "outputs": [],
   "source": [
    "etree.__version__"
   ]
  },
  {
   "cell_type": "code",
   "execution_count": null,
   "id": "eb74e516",
   "metadata": {},
   "outputs": [],
   "source": [
    "# LIDO  Namespace für registrieren\n",
    "NSMAP = {\n",
    "    'lido' : 'http://www.lido-schema.org'\n",
    "}"
   ]
  },
  {
   "cell_type": "markdown",
   "id": "7771f1bf",
   "metadata": {},
   "source": [
    "## Ist die LIDO-XML 'schemavalide'?\n",
    "\n",
    "Für die optimale Verwendung von XML-Dateien müssen diese oftmals einer möglichst standardisierten Struktur folgen.\n",
    "Diese Struktur kann in einer [XML Schema Definition Language (XSD)](https://www.w3.org/TR/xmlschema11-1/) beschrieben werden.\n",
    "Auch für das LIDO-Schema werden XSD-Dateien bereitgestellt:\n",
    "\n",
    "| LIDO-Version | URL |\n",
    "|:-- |:--- |\n",
    "| 1.0 | <http://www.lido-schema.org/schema/v1.0/lido-v1.0.xsd> |\n",
    "| 1.1 | <http://lido-schema.org/schema/v1.1/lido-v1.1.xsd> |\n",
    "\n",
    "Es empfiehlt sich, generierte XML-Dateien auf Schemavalidität zu prüfen, d.h. sicherzustellen, dass die XML-Datei den Vorgaben aus der XSD-Schemadatei entspricht.\n",
    "\n",
    "Für die Prüfung bietet sich das [Python-Modul `lxml`](https://lxml.de/2.1/validation.html#xmlschema) an."
   ]
  },
  {
   "cell_type": "markdown",
   "id": "b68907cc",
   "metadata": {},
   "source": [
    "### Erstellung eines  `XMLSchema`-Objekts\n",
    "\n",
    "Zunächst muss die XSD-Datei eingelesen und in ein [`XMLSchema`-Objekt](https://lxml.de/api/lxml.etree.XMLSchema-class.html) umgewandelt werden."
   ]
  },
  {
   "cell_type": "code",
   "execution_count": null,
   "id": "d5dd5863",
   "metadata": {},
   "outputs": [],
   "source": [
    "#lidoxsd = \"http://lido-schema.org/schema/v1.1/lido-v1.1.xsd\"\n",
    "lidoxsd = \"http://www.lido-schema.org/schema/v1.0/lido-v1.0.xsd\"\n",
    "res = requests.get(lidoxsd)\n",
    "xmlschema_doc = etree.fromstring(res.content)\n",
    "xmlschema = etree.XMLSchema(xmlschema_doc)\n",
    "# Falls das Schema lokal vorliegt, kann der Dateipfad auch über ein Argument 'file' übergeben werden\n",
    "# xmlschema = etree.XMLSchema(file=\"lido-v1.0.xsd\")"
   ]
  },
  {
   "cell_type": "markdown",
   "id": "994e1c23",
   "metadata": {},
   "source": [
    "### Validierung\n",
    "\n",
    "Für die Validierung an sich gibt es nun mehrere Möglichkeiten.\n",
    "Das zu validierende XML-Dokument muss dabei jedoch zunächste immer mit `etree.parse(<XML-DATEINAME>)` (oder wenn die XML-Datei als String vorliegt: `etree.fromstring(<XML-STRING>)`) geparset, d.h. zu einem `ElementTree`-Objekt umgewandelt werden.\n",
    "\n",
    "Im Folgenden sollen alle LIDO-Dateien des `lido`-Ordners auf Schemavalidität geprüft werden.\n",
    "\n",
    "Gezeigt werden verschiedene Methoden der `XMLSchema`-Klasse."
   ]
  },
  {
   "cell_type": "code",
   "execution_count": null,
   "id": "4cfea926",
   "metadata": {},
   "outputs": [],
   "source": [
    "lidos = glob('lido/*xml')"
   ]
  },
  {
   "cell_type": "markdown",
   "id": "7242855f",
   "metadata": {},
   "source": [
    "#### Überprüfung mit `.validate()`\n",
    "\n",
    "Die Methode `.validate()` liefert einen Boole'schen Wahrheitswert (`True` bei validem LIDO /`False` bei nicht validem LIDO) zurück.\n",
    "\n",
    "Eine Liste fehlerhafter Dateien ließe sich also folgendermaßen erzeugen (nähere Informationen zu den Fehlern bietet die `.error_log`-Property des `XMLSchema`-Objekts):"
   ]
  },
  {
   "cell_type": "code",
   "execution_count": null,
   "id": "5edca84f",
   "metadata": {},
   "outputs": [],
   "source": [
    "invalidLidos = []\n",
    "validLidos = []\n",
    "for LIDO in lidos:\n",
    "    tree = etree.parse(LIDO)\n",
    "    if xmlschema.validate(tree) is False:\n",
    "        invalidLidos.append(LIDO)\n",
    "    else:\n",
    "        validLidos.append(LIDO)"
   ]
  },
  {
   "cell_type": "markdown",
   "id": "2ec02279",
   "metadata": {},
   "source": [
    "#### Überprüfung mit Fehlermeldung\n",
    "\n",
    "Während `.validate()` einen Wahrheitswert zurückgibt, führen `.assert_` und `.assertValid` zu Fehlern (`AssertionError` bzw. `DocumentInvalid`), die ggf. über `try` und `except` abgefangen werden müssen.\n",
    "Die Fehlermeldungen enthalten auch nähere Informationen zum jeweiligen Fehler.\n",
    "Diese sind auch im `error_log` gespeichert."
   ]
  },
  {
   "cell_type": "code",
   "execution_count": null,
   "id": "4369e905",
   "metadata": {},
   "outputs": [],
   "source": [
    "for LIDO in lidos:\n",
    "    tree = etree.parse(LIDO)\n",
    "    try:\n",
    "        xmlschema.assert_(tree)\n",
    "        #xmlschema.assertValid(tree)\n",
    "    except Exception as e:\n",
    "        print(e)"
   ]
  },
  {
   "cell_type": "markdown",
   "id": "6adef6ed",
   "metadata": {},
   "source": [
    "### Interpretation des Validierungsergebnisses\n",
    "\n",
    "Die Interpretation der Fehlermeldungen der Validierung ist nicht trivial.\n",
    "Sie setzt eine genauere Auseinandersetzung mit der XSD-Datei bzw. der Spezifikation (LIDO [v.1.0](http://www.lido-schema.org/schema/v1.0/lido-v1.0-specification.pdf)/[v.1.1](https://lido-schema.org/schema/v1.1/lido-v1.1.html)) voraus."
   ]
  },
  {
   "cell_type": "markdown",
   "id": "0dc865ae",
   "metadata": {},
   "source": [
    "#### Eine kurze Leseanleitung für die LIDO-XSD-Datei"
   ]
  },
  {
   "cell_type": "code",
   "execution_count": null,
   "id": "d27044da",
   "metadata": {},
   "outputs": [],
   "source": [
    "NSMAP.update({'xsd': 'http://www.w3.org/2001/XMLSchema'})"
   ]
  },
  {
   "cell_type": "code",
   "execution_count": null,
   "id": "66bb8199",
   "metadata": {
    "scrolled": true
   },
   "outputs": [],
   "source": [
    "for ct in xmlschema_doc.findall('.//xsd:complexType', NSMAP):\n",
    "    print(ct.tag,ct.attrib)"
   ]
  },
  {
   "cell_type": "code",
   "execution_count": null,
   "id": "7b8cc2a8",
   "metadata": {},
   "outputs": [],
   "source": [
    "types = []\n",
    "for seq in xmlschema_doc.findall('.//xsd:sequence', NSMAP):\n",
    "    for x in seq.iter():\n",
    "        types.append(x.attrib.get('type'))"
   ]
  },
  {
   "cell_type": "code",
   "execution_count": null,
   "id": "4786218f",
   "metadata": {},
   "outputs": [],
   "source": [
    "Counter(types)"
   ]
  },
  {
   "cell_type": "markdown",
   "id": "9f121515",
   "metadata": {},
   "source": [
    "`sequence`-Knoten enhalten `element`-Knoten.\n",
    "Diese müssen in der angegebenen Reihenfolge erscheinen.\n",
    "Das Attribut `name` gibt den Namen des Knotens im LIDO-XML-an.\n"
   ]
  },
  {
   "cell_type": "code",
   "execution_count": null,
   "id": "8bc22514",
   "metadata": {},
   "outputs": [],
   "source": [
    "types = []\n",
    "for LIDO in lidos:\n",
    "    print(LIDO)\n",
    "    tree = etree.parse(LIDO)\n",
    "    for elem in tree.iter():\n",
    "        print(elem.attrib)\n",
    "        if elem.attrib.get('{http://www.lido-schema.org}type'):\n",
    "            types.append(elem.attrib.get('{http://www.lido-schema.org}type'))"
   ]
  },
  {
   "cell_type": "code",
   "execution_count": null,
   "id": "927566eb",
   "metadata": {},
   "outputs": [],
   "source": [
    "Counter(types).most_common()"
   ]
  },
  {
   "cell_type": "code",
   "execution_count": null,
   "id": "adb454a8",
   "metadata": {},
   "outputs": [],
   "source": [
    "for LIDO in lidos:\n",
    "    print(LIDO)\n",
    "    tree = etree.parse(LIDO)\n",
    "    for elem in tree.iter():\n",
    "        #print(elem.attrib)\n",
    "        if elem.attrib.get('{http://www.lido-schema.org}type'):\n",
    "            print(f\">>> Parent: {elem.find('...').tag}\")\n",
    "            print(f\"Tag:\\t{elem.tag}\\nAttrib:\\t{elem.attrib.get('{http://www.lido-schema.org}type')}\\nText:\\t{elem.text}\")\n",
    "            input()"
   ]
  },
  {
   "cell_type": "code",
   "execution_count": null,
   "id": "cd312e20",
   "metadata": {},
   "outputs": [],
   "source": [
    "conceptIDs = []\n",
    "for LIDO in lidos:\n",
    "    tree = etree.parse(LIDO)\n",
    "    conceptIDs.extend([x.text for x in tree.findall('//lido:conceptID', NSMAP)])"
   ]
  },
  {
   "cell_type": "code",
   "execution_count": null,
   "id": "6e261e8a",
   "metadata": {},
   "outputs": [],
   "source": [
    "Counter(conceptIDs).most_common()"
   ]
  },
  {
   "cell_type": "code",
   "execution_count": null,
   "id": "f176517f",
   "metadata": {},
   "outputs": [],
   "source": [
    "check_urls = {}"
   ]
  },
  {
   "cell_type": "code",
   "execution_count": null,
   "id": "17eada36",
   "metadata": {},
   "outputs": [],
   "source": [
    "for c in Counter(conceptIDs).most_common():\n",
    "    if not c[0] in check_urls and not \"vocab.getty\" in c[0]:\n",
    "        try:\n",
    "            res = requests.get(c[0])\n",
    "            status = res.status_code\n",
    "            check_urls[c[0]] = status\n",
    "            print(c[0], status)\n",
    "        except Exception as e:\n",
    "            print(e)"
   ]
  },
  {
   "cell_type": "code",
   "execution_count": null,
   "id": "19c72834",
   "metadata": {},
   "outputs": [],
   "source": [
    "Counter(check_urls.values())"
   ]
  },
  {
   "cell_type": "code",
   "execution_count": null,
   "id": "a99d229e",
   "metadata": {},
   "outputs": [],
   "source": [
    "invalid_urls = []\n",
    "for k,v in check_urls.items():\n",
    "    if v != 200:\n",
    "        print(k,v)\n",
    "        invalid_urls.append(k)"
   ]
  },
  {
   "cell_type": "code",
   "execution_count": null,
   "id": "2e1ab7a2",
   "metadata": {},
   "outputs": [],
   "source": [
    "from collections import Counter"
   ]
  },
  {
   "cell_type": "code",
   "execution_count": null,
   "id": "17aabdc0",
   "metadata": {},
   "outputs": [],
   "source": [
    "invalid_url_dict = defaultdict(list)"
   ]
  },
  {
   "cell_type": "code",
   "execution_count": null,
   "id": "fed3376c",
   "metadata": {},
   "outputs": [],
   "source": [
    "for LIDO in lidos:\n",
    "    tree = etree.parse(LIDO)\n",
    "    recID = tree.find('//lido:lidoRecID', NSMAP).text\n",
    "    for x in tree.findall('//lido:conceptID', NSMAP):\n",
    "        if x.text in invalid_urls:\n",
    "            print(recID,LIDO,x.text)\n",
    "            invalid_url_dict[x.text].append(LIDO)"
   ]
  },
  {
   "cell_type": "code",
   "execution_count": null,
   "id": "641f355c",
   "metadata": {},
   "outputs": [],
   "source": [
    "import json\n",
    "with open('output/invalidConceptURLS.json', 'w') as OUT:\n",
    "    json.dump(invalid_url_dict, OUT)\n"
   ]
  },
  {
   "cell_type": "code",
   "execution_count": null,
   "id": "c3a90d73",
   "metadata": {},
   "outputs": [],
   "source": [
    "invalid = []\n",
    "for LIDO in lidos:\n",
    "    ID = LIDO.replace('lido/','').replace('.xml','')\n",
    "    tree = etree.parse(LIDO)\n",
    "    print(type(tree))\n",
    "    instit = tree.find('//lido:repositorySet//lido:legalBodyName/lido:appellationValue', NSMAP).text\n",
    "    #print(tree.find('//lido:roleActor...', NSMAP))\n",
    "    if xmlschema.validate(tree) is False:\n",
    "        log = xmlschema.error_log\n",
    "        for x in log:\n",
    "            invalid.append({\n",
    "                'ID' : ID,\n",
    "                'line' : x.line,\n",
    "                'path' : x.path,\n",
    "                'message' : x.message\n",
    "            })\n",
    "    #print(dir(xmlschema))\n",
    "    #print(xmlschema.validate(tree))\n",
    "    #print(dir(xmlschema.error_log))\n",
    "    #print(xmlschema.error_log.last_error)\n",
    "    \n",
    "    #try:\n",
    "    #    xmlschema.assertValid(tree)    \n",
    "    #except Exception as e:\n",
    "    #    print(e)\n",
    "    #    invalid.append(instit)"
   ]
  },
  {
   "cell_type": "code",
   "execution_count": null,
   "id": "e4022b8a",
   "metadata": {},
   "outputs": [],
   "source": []
  },
  {
   "cell_type": "code",
   "execution_count": null,
   "id": "6871bbc9",
   "metadata": {},
   "outputs": [],
   "source": []
  },
  {
   "cell_type": "code",
   "execution_count": null,
   "id": "ec4656a9",
   "metadata": {},
   "outputs": [],
   "source": []
  },
  {
   "cell_type": "code",
   "execution_count": null,
   "id": "83ef8afd",
   "metadata": {},
   "outputs": [],
   "source": []
  },
  {
   "cell_type": "code",
   "execution_count": null,
   "id": "4a454b30",
   "metadata": {},
   "outputs": [],
   "source": [
    "with open('LIDO_error_log.csv','w') as OUT:\n",
    "    writer = csv.DictWriter(OUT, fieldnames = list(invalid[0].keys()))\n",
    "    writer.writeheader()\n",
    "    writer.writerows(invalid)"
   ]
  },
  {
   "cell_type": "code",
   "execution_count": null,
   "id": "88d7a180",
   "metadata": {},
   "outputs": [],
   "source": [
    "xmlschema.error_log"
   ]
  },
  {
   "cell_type": "markdown",
   "id": "1888b985",
   "metadata": {},
   "source": [
    "## Eregnisse sammeln\n"
   ]
  },
  {
   "cell_type": "code",
   "execution_count": null,
   "id": "2f458787",
   "metadata": {},
   "outputs": [],
   "source": [
    "eventtypes = []\n",
    "for LIDO in lidos:\n",
    "    tree = etree.parse(LIDO)\n",
    "    for event in tree.findall('//lido:eventType/lido:term', NSMAP):\n",
    "        eventtypes.append(event.text)\n",
    "        "
   ]
  },
  {
   "cell_type": "code",
   "execution_count": null,
   "id": "76c56bfe",
   "metadata": {},
   "outputs": [],
   "source": [
    "Counter(eventtypes)"
   ]
  },
  {
   "cell_type": "code",
   "execution_count": null,
   "id": "2a6da796",
   "metadata": {},
   "outputs": [],
   "source": [
    "sources = []\n",
    "for LIDO in lidos:\n",
    "    tree = etree.parse(LIDO)\n",
    "    sources.extend([x.text for x in tree.findall('//*[@lido:source]', NSMAP)])"
   ]
  },
  {
   "cell_type": "code",
   "execution_count": null,
   "id": "f2e33528",
   "metadata": {},
   "outputs": [],
   "source": [
    "c = Counter(sources).most_common()"
   ]
  },
  {
   "cell_type": "code",
   "execution_count": null,
   "id": "6a110840",
   "metadata": {},
   "outputs": [],
   "source": [
    "sourcesFreq = Counter([urlparse(s).netloc for s in sources]).most_common()[:-20:-1]"
   ]
  },
  {
   "cell_type": "code",
   "execution_count": null,
   "id": "5b3d5404",
   "metadata": {},
   "outputs": [],
   "source": [
    "sourcesFreq"
   ]
  },
  {
   "cell_type": "code",
   "execution_count": null,
   "id": "8c21cd81",
   "metadata": {},
   "outputs": [],
   "source": [
    "controlled_vocabularies = defaultdict(set)\n",
    "for LIDO in lidos:\n",
    "    tree = etree.parse(LIDO)\n",
    "    for x in tree.findall('//*[@lido:source]', NSMAP):\n",
    "        controlled_vocabularies[x.attrib.get('{http://www.lido-schema.org}source')].add(x.tag)"
   ]
  },
  {
   "cell_type": "code",
   "execution_count": null,
   "id": "c987d242",
   "metadata": {},
   "outputs": [],
   "source": [
    "for LIDO in lidos:\n",
    "    tree = etree.parse(LIDO)\n",
    "    hit = tree.find('//*[@lido:source=\"Wikipedia\"]', NSMAP)\n",
    "    if hit is not None:\n",
    "        print(hit.tag,hit.text,hit.attrib)\n",
    "        print(LIDO)\n",
    "        input()\n"
   ]
  },
  {
   "cell_type": "code",
   "execution_count": null,
   "id": "9cde174b",
   "metadata": {},
   "outputs": [],
   "source": [
    "Counter([r.tag for r in results])"
   ]
  },
  {
   "cell_type": "code",
   "execution_count": null,
   "id": "d4252e22",
   "metadata": {},
   "outputs": [],
   "source": [
    "Counter([r.attrib.get('{http://www.lido-schema.org}source') for r in results if r.tag == \"{http://www.lido-schema.org}conceptID\" ])"
   ]
  },
  {
   "cell_type": "code",
   "execution_count": null,
   "id": "3389342d",
   "metadata": {},
   "outputs": [],
   "source": [
    "for r in results:\n",
    "    print(r.attrib.get('{http://www.lido-schema.org}source'))\n",
    "    print(r.text)\n",
    "    print(r.tag)"
   ]
  },
  {
   "cell_type": "code",
   "execution_count": null,
   "id": "ef5f6b84",
   "metadata": {},
   "outputs": [],
   "source": [
    "sources = defaultdict(set)"
   ]
  },
  {
   "cell_type": "code",
   "execution_count": null,
   "id": "d8a15046",
   "metadata": {},
   "outputs": [],
   "source": [
    "for r in results:\n",
    "    sources[r.attrib.get('{http://www.lido-schema.org}source')].add(r.tag)"
   ]
  },
  {
   "cell_type": "code",
   "execution_count": null,
   "id": "66fd02c6",
   "metadata": {},
   "outputs": [],
   "source": [
    "cv_by_category = defaultdict(set)\n",
    "\n",
    "for k,v in sources.items():\n",
    "    for V in v:\n",
    "        cv_by_category[V].add(k)"
   ]
  },
  {
   "cell_type": "code",
   "execution_count": null,
   "id": "063ea9b6",
   "metadata": {},
   "outputs": [],
   "source": [
    "cv_by_category"
   ]
  },
  {
   "cell_type": "markdown",
   "id": "2b6076b9",
   "metadata": {},
   "source": [
    "## Beteiligte Institutionen\n",
    "\n",
    "Die Datengeber:innen werden im [`recordSource`-Element](http://www.lido-schema.org/schema/v1.1/lido-v1.1.html#recordSource) angegeben.\n",
    "Dieses Element kann -- und sollte! -- neben dem Namen eine oder mehrere `legalBodyID` enthalten, die die Institution maschinenlesbar identifzieren.\n",
    "Andernsfalls bleibt lediglich die Identifikation über einen String im `appellationValue` oder eine Web-Adresse (`legalBodyWeblink`)\n",
    "\n",
    "Die `legalBodyID` ist vom Typ [`identifierComplexType`](http://www.lido-schema.org/schema/v1.1/lido-v1.1.html#identifierComplexType) und enthält i.d.R. das verpflichtende `type`-Attribute sowie das `source`-Element.\n",
    "\n",
    "Im Folgenden wollen wir uns einen quantitativen Überblick über die Elemente verschaffen und zählen, wie oft die jeweiligen Elemente in den Datensätzen vorkommen."
   ]
  },
  {
   "cell_type": "code",
   "execution_count": null,
   "id": "719c7204",
   "metadata": {},
   "outputs": [],
   "source": [
    "contents = []\n",
    "for LIDO in lidos:\n",
    "    tree = etree.parse(LIDO)\n",
    "    for _ in tree.find('//lido:recordSource', NSMAP):\n",
    "        contents.append(etree.QName(_).localname)"
   ]
  },
  {
   "cell_type": "code",
   "execution_count": null,
   "id": "4738fe4a",
   "metadata": {},
   "outputs": [],
   "source": [
    "xs,ys = zip(*Counter(contents).most_common())\n",
    "plt.bar(xs,ys)\n",
    "plt.xticks(rotation=30)\n",
    "plt.show()"
   ]
  },
  {
   "cell_type": "markdown",
   "id": "19297b4f",
   "metadata": {},
   "source": [
    "Es zeigt sich also, dass die `recordSource`-Elemente den verpflichtenden `legalBodyName` enthalten, aber nur 36k der 50k einen maschinenlesbaren URI.\n",
    "\n",
    "Zur gezielten Verbesserung der Daten sollen nun die Institutionen gesammelt werden, die (noch) keine `legalBodyID` verzeichnen."
   ]
  },
  {
   "cell_type": "code",
   "execution_count": null,
   "id": "dd8589b9",
   "metadata": {},
   "outputs": [],
   "source": [
    "legalBodiesWithoutID = []\n",
    "for LIDO in lidos:\n",
    "    tree = etree.parse(LIDO)\n",
    "    recordSource = tree.find('//lido:recordSource', NSMAP)\n",
    "    if recordSource.find('lido:legalBodyID', NSMAP) is None:\n",
    "        legalBodiesWithoutID.append(recordSource.find('lido:legalBodyName/lido:appellationValue', NSMAP).text)"
   ]
  },
  {
   "cell_type": "code",
   "execution_count": null,
   "id": "1c7a0cd7",
   "metadata": {},
   "outputs": [],
   "source": [
    "for _ in Counter(legalBodiesWithoutID).most_common():\n",
    "    k,v = _\n",
    "    print(repr(k),v)"
   ]
  },
  {
   "cell_type": "code",
   "execution_count": null,
   "id": "009d7fdd",
   "metadata": {},
   "outputs": [],
   "source": [
    "weblinks_without_ID = []\n",
    "for LIDO in lidos:\n",
    "    tree = etree.parse(LIDO)\n",
    "    recordSource = tree.find('//lido:recordSource', NSMAP)\n",
    "    if recordSource.find('lido:legalBodyWeblink', NSMAP) is not None and recordSource.find('lido:legalBodyID', NSMAP) is None:\n",
    "        weblinks_without_ID.append(recordSource.find('lido:legalBodyWeblink', NSMAP).text)"
   ]
  },
  {
   "cell_type": "code",
   "execution_count": null,
   "id": "d34df346",
   "metadata": {},
   "outputs": [],
   "source": [
    "Counter(weblinks_without_ID)"
   ]
  },
  {
   "cell_type": "code",
   "execution_count": null,
   "id": "c175e0b2",
   "metadata": {},
   "outputs": [],
   "source": [
    "sources = []\n",
    "types = []\n",
    "for LIDO in lidos:\n",
    "    tree = etree.parse(LIDO)\n",
    "    for x in tree.findall('//lido:recordSource/lido:legalBodyID', NSMAP):\n",
    "        sources.append(x.attrib.get('{http://www.lido-schema.org}source'))\n",
    "        types.append(x.attrib.get('{http://www.lido-schema.org}type'))"
   ]
  },
  {
   "cell_type": "code",
   "execution_count": null,
   "id": "9cac59bd",
   "metadata": {},
   "outputs": [],
   "source": [
    "Counter(sources)"
   ]
  },
  {
   "cell_type": "code",
   "execution_count": null,
   "id": "0c368132",
   "metadata": {},
   "outputs": [],
   "source": [
    "Counter(types)"
   ]
  },
  {
   "cell_type": "markdown",
   "id": "a7b7b698",
   "metadata": {},
   "source": [
    "## Personendaten"
   ]
  },
  {
   "cell_type": "code",
   "execution_count": null,
   "id": "8660abb4",
   "metadata": {},
   "outputs": [],
   "source": [
    "for LIDO in lidos:\n",
    "    tree = etree.parse(LIDO)\n",
    "    for _ in tree.iter():\n",
    "        print(tree.getpath(_))\n",
    "    input()"
   ]
  },
  {
   "cell_type": "code",
   "execution_count": null,
   "id": "bb171b15",
   "metadata": {},
   "outputs": [],
   "source": [
    "actor = []\n",
    "for LIDO in lidos:\n",
    "    tree = etree.parse(LIDO)\n",
    "    for _ in tree.findall(\"//lido:conceptID\", NSMAP):\n",
    "        actor.append(_.text)"
   ]
  },
  {
   "cell_type": "code",
   "execution_count": null,
   "id": "6ad25b62",
   "metadata": {},
   "outputs": [],
   "source": [
    "Counter(actor)"
   ]
  },
  {
   "cell_type": "markdown",
   "id": "ac581307",
   "metadata": {},
   "source": [
    "Personennamen sind in nameActorSet o.ä. enthalten"
   ]
  },
  {
   "cell_type": "code",
   "execution_count": null,
   "id": "dd7b155e",
   "metadata": {},
   "outputs": [],
   "source": [
    "authors_with_id = []\n",
    "authors_without_id = []\n",
    "for LIDO in lidos:\n",
    "    tree = etree.parse(LIDO)\n",
    "    for actor in tree.findall(\"//lido:eventActor/lido:actorInRole/lido:actor\", NSMAP):\n",
    "        try:\n",
    "            actor.find('lido:actorID', NSMAP).text\n",
    "            authors_with_id.append(actor)\n",
    "        except:\n",
    "            authors_without_id.append(actor)"
   ]
  },
  {
   "cell_type": "code",
   "execution_count": null,
   "id": "b7a6f798",
   "metadata": {},
   "outputs": [],
   "source": [
    "for a in authors_with_id:\n",
    "    print(a.tag)\n",
    "    for x in a:\n",
    "        print(\"\\t\",x.tag)\n",
    "        for X in x:\n",
    "             print(\"\\t\\t\",X.tag)\n",
    "    print(a.find('.//lido:appellationValue', NSMAP).text)\n",
    "    for A in a.find('lido:actorID', NSMAP):\n",
    "        print(A.tag,A.attrib,A.text)\n",
    "    input()"
   ]
  },
  {
   "cell_type": "code",
   "execution_count": null,
   "id": "e32e8d74",
   "metadata": {},
   "outputs": [],
   "source": [
    "Counter((A.text for A in a.iter() for a in authors_with_id))"
   ]
  },
  {
   "cell_type": "code",
   "execution_count": null,
   "id": "965f74a2",
   "metadata": {},
   "outputs": [],
   "source": [
    "Counter((A.text for A in a.iter() for a in authors_without_id))"
   ]
  },
  {
   "cell_type": "code",
   "execution_count": null,
   "id": "74722270",
   "metadata": {},
   "outputs": [],
   "source": [
    "for a in authors_with_id:\n",
    "    for A in a.iter():\n",
    "        print(A.tag,A.text)\n",
    "    input()a"
   ]
  },
  {
   "cell_type": "code",
   "execution_count": null,
   "id": "51c104f9",
   "metadata": {},
   "outputs": [],
   "source": []
  }
 ],
 "metadata": {
  "kernelspec": {
   "display_name": "Python 3 (ipykernel)",
   "language": "python",
   "name": "python3"
  },
  "language_info": {
   "codemirror_mode": {
    "name": "ipython",
    "version": 3
   },
   "file_extension": ".py",
   "mimetype": "text/x-python",
   "name": "python",
   "nbconvert_exporter": "python",
   "pygments_lexer": "ipython3",
   "version": "3.10.4"
  }
 },
 "nbformat": 4,
 "nbformat_minor": 5
}
